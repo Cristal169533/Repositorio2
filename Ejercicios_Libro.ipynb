{
  "nbformat": 4,
  "nbformat_minor": 0,
  "metadata": {
    "colab": {
      "provenance": []
    },
    "kernelspec": {
      "name": "python3",
      "display_name": "Python 3"
    },
    "language_info": {
      "name": "python"
    }
  },
  "cells": [
    {
      "cell_type": "code",
      "execution_count": 2,
      "metadata": {
        "colab": {
          "base_uri": "https://localhost:8080/"
        },
        "id": "P7KMrK64V_LR",
        "outputId": "437e4e87-bfff-40d7-daff-a83a06ff18ac"
      },
      "outputs": [
        {
          "output_type": "stream",
          "name": "stdout",
          "text": [
            "Collecting nacal\n",
            "  Downloading nacal-0.1.30-py3-none-any.whl (33 kB)\n",
            "Requirement already satisfied: sympy>=1.1.0 in /usr/local/lib/python3.10/dist-packages (from nacal) (1.12)\n",
            "Requirement already satisfied: mpmath>=0.19 in /usr/local/lib/python3.10/dist-packages (from sympy>=1.1.0->nacal) (1.3.0)\n",
            "Installing collected packages: nacal\n",
            "Successfully installed nacal-0.1.30\n"
          ]
        }
      ],
      "source": [
        "!pip install --target=$nb_path nacal\n",
        "from nacal import *"
      ]
    },
    {
      "cell_type": "code",
      "source": [
        "a= Vector ([1,2,3])\n",
        "b= Vector ([4,5,6])\n",
        "(a+b)"
      ],
      "metadata": {
        "colab": {
          "base_uri": "https://localhost:8080/",
          "height": 46
        },
        "id": "Gj9Uj3jgfvfY",
        "outputId": "0062a376-89fd-4286-fbf5-3d64532c5452"
      },
      "execution_count": 15,
      "outputs": [
        {
          "output_type": "execute_result",
          "data": {
            "text/plain": [
              "Vector([5, 7, 9])"
            ],
            "text/html": [
              "<p style=\"text-align:center;\">$\\begin{pmatrix}5\\\\ 7\\\\ 9\\end{pmatrix}$</p>"
            ],
            "image/png": "$\\begin{pmatrix}5\\\\ 7\\\\ 9\\end{pmatrix}$",
            "text/latex": "$\\begin{pmatrix}5\\\\ 7\\\\ 9\\end{pmatrix}$"
          },
          "metadata": {},
          "execution_count": 15
        }
      ]
    },
    {
      "cell_type": "markdown",
      "source": [
        "$\\begin{pmatrix}5\\\\ 7\\\\ 9\\end{pmatrix}$\n"
      ],
      "metadata": {
        "id": "_CSf1NY3nREQ"
      }
    },
    {
      "cell_type": "code",
      "source": [
        "a= Vector ([1,2])\n",
        "b= Vector ([4,5])\n",
        "c= Vector ([1,0])\n",
        "(a)+(b+c)\n"
      ],
      "metadata": {
        "colab": {
          "base_uri": "https://localhost:8080/",
          "height": 46
        },
        "id": "TKezSM1OhYjy",
        "outputId": "0db2b6e7-f794-4b9a-d465-764329b925d1"
      },
      "execution_count": 21,
      "outputs": [
        {
          "output_type": "execute_result",
          "data": {
            "text/plain": [
              "Vector([6, 7])"
            ],
            "text/html": [
              "<p style=\"text-align:center;\">$\\begin{pmatrix}6\\\\ 7\\end{pmatrix}$</p>"
            ],
            "image/png": "$\\begin{pmatrix}6\\\\ 7\\end{pmatrix}$",
            "text/latex": "$\\begin{pmatrix}6\\\\ 7\\end{pmatrix}$"
          },
          "metadata": {},
          "execution_count": 21
        }
      ]
    },
    {
      "cell_type": "markdown",
      "source": [
        "$\\begin{pmatrix}6\\\\ 7\\end{pmatrix}$\n"
      ],
      "metadata": {
        "id": "tqSJb8tNh3TM"
      }
    },
    {
      "cell_type": "code",
      "source": [
        "a= Vector ([4,5,6])\n",
        "b= Vector ([0,0,0])\n",
        "(a+b)"
      ],
      "metadata": {
        "colab": {
          "base_uri": "https://localhost:8080/",
          "height": 46
        },
        "id": "Ti_JJMyCjd8X",
        "outputId": "015f2d95-965d-48ed-e5b1-c2183c960572"
      },
      "execution_count": 29,
      "outputs": [
        {
          "output_type": "execute_result",
          "data": {
            "text/plain": [
              "Vector([4, 5, 6])"
            ],
            "text/html": [
              "<p style=\"text-align:center;\">$\\begin{pmatrix}4\\\\ 5\\\\ 6\\end{pmatrix}$</p>"
            ],
            "image/png": "$\\begin{pmatrix}4\\\\ 5\\\\ 6\\end{pmatrix}$",
            "text/latex": "$\\begin{pmatrix}4\\\\ 5\\\\ 6\\end{pmatrix}$"
          },
          "metadata": {},
          "execution_count": 29
        }
      ]
    },
    {
      "cell_type": "markdown",
      "source": [
        "$\\begin{pmatrix}4\\\\ 5\\\\ 6\\end{pmatrix}$"
      ],
      "metadata": {
        "id": "HTIWpwF9kJVf"
      }
    },
    {
      "cell_type": "code",
      "source": [
        "a= Vector ([4,5,6])\n",
        "b= Vector ([-4,-5,-6])\n",
        "(a+b)"
      ],
      "metadata": {
        "colab": {
          "base_uri": "https://localhost:8080/",
          "height": 46
        },
        "id": "OJAsqDNbrbxb",
        "outputId": "8d432bb9-3494-4ef0-8f7a-3de845447e6e"
      },
      "execution_count": 30,
      "outputs": [
        {
          "output_type": "execute_result",
          "data": {
            "text/plain": [
              "Vector([0, 0, 0])"
            ],
            "text/html": [
              "<p style=\"text-align:center;\">$\\begin{pmatrix}0\\\\ 0\\\\ 0\\end{pmatrix}$</p>"
            ],
            "image/png": "$\\begin{pmatrix}0\\\\ 0\\\\ 0\\end{pmatrix}$",
            "text/latex": "$\\begin{pmatrix}0\\\\ 0\\\\ 0\\end{pmatrix}$"
          },
          "metadata": {},
          "execution_count": 30
        }
      ]
    },
    {
      "cell_type": "markdown",
      "source": [
        "$\\begin{pmatrix}0\\\\ 0\\\\ 0\\end{pmatrix}$\n"
      ],
      "metadata": {
        "id": "FJh0DTDTrvFW"
      }
    },
    {
      "cell_type": "code",
      "source": [
        "a= Vector([1,-1])\n",
        "b= Vector([4,5])\n",
        "2*(a+b)"
      ],
      "metadata": {
        "colab": {
          "base_uri": "https://localhost:8080/",
          "height": 46
        },
        "id": "26dCOXdy1c2I",
        "outputId": "5cb22449-4520-4bb0-a89b-6b4b72fcd414"
      },
      "execution_count": 36,
      "outputs": [
        {
          "output_type": "execute_result",
          "data": {
            "text/plain": [
              "Vector([10, 8])"
            ],
            "text/html": [
              "<p style=\"text-align:center;\">$\\begin{pmatrix}10\\\\ 8\\end{pmatrix}$</p>"
            ],
            "image/png": "$\\begin{pmatrix}10\\\\ 8\\end{pmatrix}$",
            "text/latex": "$\\begin{pmatrix}10\\\\ 8\\end{pmatrix}$"
          },
          "metadata": {},
          "execution_count": 36
        }
      ]
    },
    {
      "cell_type": "markdown",
      "source": [
        "$\\begin{pmatrix}10\\\\ 8\\end{pmatrix}$\n"
      ],
      "metadata": {
        "id": "2Yjw5X3t11k2"
      }
    },
    {
      "cell_type": "code",
      "source": [
        "a= Vector([1,2,3])\n",
        "(2+3)*(a)"
      ],
      "metadata": {
        "colab": {
          "base_uri": "https://localhost:8080/",
          "height": 46
        },
        "id": "h3_GvJmP2d76",
        "outputId": "f1358e53-0f0c-4385-d501-8022a0d5d344"
      },
      "execution_count": 40,
      "outputs": [
        {
          "output_type": "execute_result",
          "data": {
            "text/plain": [
              "Vector([5, 10, 15])"
            ],
            "text/html": [
              "<p style=\"text-align:center;\">$\\begin{pmatrix}5\\\\ 10\\\\ 15\\end{pmatrix}$</p>"
            ],
            "image/png": "$\\begin{pmatrix}5\\\\ 10\\\\ 15\\end{pmatrix}$",
            "text/latex": "$\\begin{pmatrix}5\\\\ 10\\\\ 15\\end{pmatrix}$"
          },
          "metadata": {},
          "execution_count": 40
        }
      ]
    },
    {
      "cell_type": "markdown",
      "source": [
        "$\\begin{pmatrix}5\\\\ 10\\\\ 15\\end{pmatrix}$"
      ],
      "metadata": {
        "id": "YLOmbCKC4q5I"
      }
    },
    {
      "cell_type": "code",
      "source": [
        "a= Vector([1,2])\n",
        "2*(3*(a))"
      ],
      "metadata": {
        "colab": {
          "base_uri": "https://localhost:8080/",
          "height": 46
        },
        "id": "bw4CxzMw4_oa",
        "outputId": "cf53fe56-f555-4700-8b01-e34e114fdb0a"
      },
      "execution_count": 43,
      "outputs": [
        {
          "output_type": "execute_result",
          "data": {
            "text/plain": [
              "Vector([6, 12])"
            ],
            "text/html": [
              "<p style=\"text-align:center;\">$\\begin{pmatrix}6\\\\ 12\\end{pmatrix}$</p>"
            ],
            "image/png": "$\\begin{pmatrix}6\\\\ 12\\end{pmatrix}$",
            "text/latex": "$\\begin{pmatrix}6\\\\ 12\\end{pmatrix}$"
          },
          "metadata": {},
          "execution_count": 43
        }
      ]
    },
    {
      "cell_type": "markdown",
      "source": [
        "$\\begin{pmatrix}6\\\\ 12\\end{pmatrix}$"
      ],
      "metadata": {
        "id": "k8zdmRdC58ut"
      }
    },
    {
      "cell_type": "code",
      "source": [
        "a= Vector([1,2,3])\n",
        "(a)"
      ],
      "metadata": {
        "colab": {
          "base_uri": "https://localhost:8080/",
          "height": 46
        },
        "id": "PDHODEnB5KXP",
        "outputId": "f48936aa-784e-43a9-94d8-3d14d9e81d3c"
      },
      "execution_count": 41,
      "outputs": [
        {
          "output_type": "execute_result",
          "data": {
            "text/plain": [
              "Vector([1, 2, 3])"
            ],
            "text/html": [
              "<p style=\"text-align:center;\">$\\begin{pmatrix}1\\\\ 2\\\\ 3\\end{pmatrix}$</p>"
            ],
            "image/png": "$\\begin{pmatrix}1\\\\ 2\\\\ 3\\end{pmatrix}$",
            "text/latex": "$\\begin{pmatrix}1\\\\ 2\\\\ 3\\end{pmatrix}$"
          },
          "metadata": {},
          "execution_count": 41
        }
      ]
    },
    {
      "cell_type": "markdown",
      "source": [
        "$\\begin{pmatrix}1\\\\ 2\\\\ 3\\end{pmatrix}$\n"
      ],
      "metadata": {
        "id": "Pkkdu5NM5S4z"
      }
    }
  ]
}