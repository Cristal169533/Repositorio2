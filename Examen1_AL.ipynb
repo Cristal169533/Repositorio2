{
  "nbformat": 4,
  "nbformat_minor": 0,
  "metadata": {
    "colab": {
      "provenance": []
    },
    "kernelspec": {
      "name": "python3",
      "display_name": "Python 3"
    },
    "language_info": {
      "name": "python"
    }
  },
  "cells": [
    {
      "cell_type": "markdown",
      "source": [
        "## Algebra Lineal\n",
        "\n",
        "### 1er examen parcial"
      ],
      "metadata": {
        "id": "m93nhBA98vRW"
      }
    },
    {
      "cell_type": "markdown",
      "source": [
        "*EN* este notebook deberás realizar cada uno de los ejercicios utilizando Python dentro de los bloques de código, si alguna salida requiere la visualización mediante Latex escribe el bloque correspondiente."
      ],
      "metadata": {
        "id": "OWBcJp7z9U8G"
      }
    },
    {
      "cell_type": "code",
      "source": [
        "!pip install --target=$nb_path nacal\n",
        "from nacal import *"
      ],
      "metadata": {
        "colab": {
          "base_uri": "https://localhost:8080/"
        },
        "id": "T8G9iAFmZCeL",
        "outputId": "608ee9bb-f47f-4f58-8901-22eb46b67a5b"
      },
      "execution_count": 1,
      "outputs": [
        {
          "output_type": "stream",
          "name": "stdout",
          "text": [
            "Collecting nacal\n",
            "  Downloading nacal-0.2.1-py3-none-any.whl (40 kB)\n",
            "\u001b[2K     \u001b[90m━━━━━━━━━━━━━━━━━━━━━━━━━━━━━━━━━━━━━━━━\u001b[0m \u001b[32m40.0/40.0 kB\u001b[0m \u001b[31m499.5 kB/s\u001b[0m eta \u001b[36m0:00:00\u001b[0m\n",
            "\u001b[?25hRequirement already satisfied: sympy>=1.1.0 in /usr/local/lib/python3.10/dist-packages (from nacal) (1.12.1)\n",
            "Requirement already satisfied: mpmath<1.4.0,>=1.1.0 in /usr/local/lib/python3.10/dist-packages (from sympy>=1.1.0->nacal) (1.3.0)\n",
            "Installing collected packages: nacal\n",
            "Successfully installed nacal-0.2.1\n"
          ]
        }
      ]
    },
    {
      "cell_type": "markdown",
      "metadata": {
        "id": "kXLRi02u_bK6"
      },
      "source": [
        "1. Genere los vectores $a$ y $ {b}$:\n",
        "\n",
        "-   el vector ${a}$ está formado por la lista de números: 1, 4, 9, 2, -5, π\n",
        "-   el vector ${b}$ está formado por la lista de números: 1, 2, 1, 0, 0.01,  $\\sqrt 2$\n",
        "-   súmelos"
      ]
    },
    {
      "cell_type": "code",
      "source": [
        "π=3.1416"
      ],
      "metadata": {
        "id": "r0FiKQi4NrdR"
      },
      "execution_count": null,
      "outputs": []
    },
    {
      "cell_type": "code",
      "source": [
        "a=Vector([1,4,9,2,-5,π])\n",
        "a"
      ],
      "metadata": {
        "id": "qTHsvJ9VOQi0",
        "outputId": "a471a468-9488-49b3-a3b2-ce00edd6c237",
        "colab": {
          "base_uri": "https://localhost:8080/",
          "height": 46
        }
      },
      "execution_count": null,
      "outputs": [
        {
          "output_type": "execute_result",
          "data": {
            "text/plain": [
              "Vector([1, 4, 9, 2, -5, 3.1416])"
            ],
            "text/html": [
              "<p style=\"text-align:center;\">$\\begin{pmatrix}1\\\\ 4\\\\ 9\\\\ 2\\\\ -5\\\\ 3.1416\\end{pmatrix}$</p>"
            ],
            "image/png": "$\\begin{pmatrix}1\\\\ 4\\\\ 9\\\\ 2\\\\ -5\\\\ 3.1416\\end{pmatrix}$",
            "text/latex": "$\\begin{pmatrix}1\\\\ 4\\\\ 9\\\\ 2\\\\ -5\\\\ 3.1416\\end{pmatrix}$"
          },
          "metadata": {},
          "execution_count": 7
        }
      ]
    },
    {
      "cell_type": "markdown",
      "source": [
        "$\\begin{pmatrix}1\\\\ 4\\\\ 9\\\\ 2\\\\ -5\\\\ 3.1416\\end{pmatrix}$"
      ],
      "metadata": {
        "id": "SLnRLZpwOrPp"
      }
    },
    {
      "cell_type": "code",
      "source": [
        "b=Vector([1, 2, 1, 0, 0.01,1.41])\n",
        "b"
      ],
      "metadata": {
        "id": "3tQmHm_2OvzI",
        "outputId": "f87ab9f1-852c-4316-baaf-669d4b9ed668",
        "colab": {
          "base_uri": "https://localhost:8080/",
          "height": 46
        }
      },
      "execution_count": null,
      "outputs": [
        {
          "output_type": "execute_result",
          "data": {
            "text/plain": [
              "Vector([1, 2, 1, 0, 0.01, 1.41])"
            ],
            "text/html": [
              "<p style=\"text-align:center;\">$\\begin{pmatrix}1\\\\ 2\\\\ 1\\\\ 0\\\\ 0.01\\\\ 1.41\\end{pmatrix}$</p>"
            ],
            "image/png": "$\\begin{pmatrix}1\\\\ 2\\\\ 1\\\\ 0\\\\ 0.01\\\\ 1.41\\end{pmatrix}$",
            "text/latex": "$\\begin{pmatrix}1\\\\ 2\\\\ 1\\\\ 0\\\\ 0.01\\\\ 1.41\\end{pmatrix}$"
          },
          "metadata": {},
          "execution_count": 18
        }
      ]
    },
    {
      "cell_type": "markdown",
      "source": [
        "$\\begin{pmatrix}1\\\\ 2\\\\ 1\\\\ 0\\\\ 0.01\\\\ 1.41\\end{pmatrix}$"
      ],
      "metadata": {
        "id": "x8TBFN_sQB85"
      }
    },
    {
      "cell_type": "code",
      "source": [
        "a+b"
      ],
      "metadata": {
        "id": "1HRMh2SKQGTP",
        "outputId": "be0dea54-ed70-4ec4-ebd4-dff39471401c",
        "colab": {
          "base_uri": "https://localhost:8080/",
          "height": 46
        }
      },
      "execution_count": null,
      "outputs": [
        {
          "output_type": "execute_result",
          "data": {
            "text/plain": [
              "Vector([2, 6, 10, 2, -4.99000000000000, 4.55160000000000])"
            ],
            "text/html": [
              "<p style=\"text-align:center;\">$\\begin{pmatrix}2\\\\ 6\\\\ 10\\\\ 2\\\\ -4.99\\\\ 4.5516\\end{pmatrix}$</p>"
            ],
            "image/png": "$\\begin{pmatrix}2\\\\ 6\\\\ 10\\\\ 2\\\\ -4.99\\\\ 4.5516\\end{pmatrix}$",
            "text/latex": "$\\begin{pmatrix}2\\\\ 6\\\\ 10\\\\ 2\\\\ -4.99\\\\ 4.5516\\end{pmatrix}$"
          },
          "metadata": {},
          "execution_count": 19
        }
      ]
    },
    {
      "cell_type": "markdown",
      "source": [
        "$\\begin{pmatrix}2\\\\ 6\\\\ 10\\\\ 2\\\\ -4.99\\\\ 4.5516\\end{pmatrix}$"
      ],
      "metadata": {
        "id": "8B5JrJpsQTAU"
      }
    },
    {
      "cell_type": "markdown",
      "metadata": {
        "id": "6FIT3apxOYdq"
      },
      "source": [
        "2. Proporcione ejemplos de matrices 3 por 3 no nulas de los siguientes\n",
        "tipos de matrices:\n",
        "\n",
        "-   Una matriz diagonal\n",
        "\n"
      ]
    },
    {
      "cell_type": "code",
      "source": [
        "J=I(3)\n",
        "J"
      ],
      "metadata": {
        "id": "OYPBV3aXYnPm",
        "outputId": "c12a613c-97d0-4683-a491-488cfc203de9",
        "colab": {
          "base_uri": "https://localhost:8080/",
          "height": 46
        }
      },
      "execution_count": null,
      "outputs": [
        {
          "output_type": "execute_result",
          "data": {
            "text/plain": [
              "Matrix([Vector([1, 0, 0]), Vector([0, 1, 0]), Vector([0, 0, 1])])"
            ],
            "text/html": [
              "<p style=\"text-align:center;\">$\\left[ \\begin{array}{ccc}1&0&0\\\\0&1&0\\\\0&0&1\\\\ \\end{array} \\right]$</p>"
            ],
            "image/png": "$\\left[ \\begin{array}{ccc}1&0&0\\\\0&1&0\\\\0&0&1\\\\ \\end{array} \\right]$",
            "text/latex": "$\\left[ \\begin{array}{ccc}1&0&0\\\\0&1&0\\\\0&0&1\\\\ \\end{array} \\right]$"
          },
          "metadata": {},
          "execution_count": 54
        }
      ]
    },
    {
      "cell_type": "markdown",
      "source": [
        "$\\left[ \\begin{array}{ccc}1&0&0\\\\0&1&0\\\\0&0&1\\\\ \\end{array} \\right]$"
      ],
      "metadata": {
        "id": "2qX-bUBpYrb3"
      }
    },
    {
      "cell_type": "markdown",
      "metadata": {
        "id": "WMMsUBTtOYdq"
      },
      "source": [
        "-   Una matriz simétrica\n",
        "\n"
      ]
    },
    {
      "cell_type": "code",
      "source": [
        "k=Vector([1,1,-2])\n",
        "m=Vector([1,-2,1])\n",
        "n=Vector([-2,1,1])\n",
        "V=Matrix([k,m,n])\n",
        "V"
      ],
      "metadata": {
        "colab": {
          "base_uri": "https://localhost:8080/",
          "height": 46
        },
        "id": "-EIryyCOZnrc",
        "outputId": "fbd91ed8-39a0-4f60-f962-d86b877c997c"
      },
      "execution_count": 4,
      "outputs": [
        {
          "output_type": "execute_result",
          "data": {
            "text/plain": [
              "Matrix([Vector([1, 1, -2]), Vector([1, -2, 1]), Vector([-2, 1, 1])])"
            ],
            "text/html": [
              "<p style=\"text-align:center;\">$\\left[ \\begin{array}{ccc}1&1&-2\\\\1&-2&1\\\\-2&1&1\\\\ \\end{array} \\right]$</p>"
            ],
            "image/png": "$\\left[ \\begin{array}{ccc}1&1&-2\\\\1&-2&1\\\\-2&1&1\\\\ \\end{array} \\right]$",
            "text/latex": "$\\left[ \\begin{array}{ccc}1&1&-2\\\\1&-2&1\\\\-2&1&1\\\\ \\end{array} \\right]$"
          },
          "metadata": {},
          "execution_count": 4
        }
      ]
    },
    {
      "cell_type": "markdown",
      "source": [
        "$\\left[ \\begin{array}{ccc}1&1&-2\\\\1&-2&1\\\\-2&1&1\\\\ \\end{array} \\right]$"
      ],
      "metadata": {
        "id": "FYSLIJAFZ3Dz"
      }
    },
    {
      "cell_type": "markdown",
      "metadata": {
        "id": "roLWrzwXj1X6"
      },
      "source": [
        "3. Cree la matriz\n",
        "$${A}=\\begin{bmatrix}1&0&0&-1\\\\2&0&7&0\\\\-4&3&3&0\\\\0&3&4&1\\\\7&1&2&1\\end{bmatrix}$$\n",
        "\n"
      ]
    },
    {
      "cell_type": "code",
      "source": [
        "c=Vector([1,2,-4,0,7])\n",
        "d=Vector([0,0,3,3,1])\n",
        "e=Vector([0,7,3,4,2])\n",
        "f=Vector([-1,0,0,1,1])\n",
        "A=Matrix([c,d,e,f])\n",
        "A"
      ],
      "metadata": {
        "id": "1Ft6cXxGLitn",
        "outputId": "5c2e8aa3-b1b0-4504-bf45-9592a4df3680",
        "colab": {
          "base_uri": "https://localhost:8080/",
          "height": 46
        }
      },
      "execution_count": 13,
      "outputs": [
        {
          "output_type": "execute_result",
          "data": {
            "text/plain": [
              "Matrix([Vector([1, 2, -4, 0, 7]), Vector([0, 0, 3, 3, 1]), Vector([0, 7, 3, 4, 2]), Vector([-1, 0, 0, 1, 1])])"
            ],
            "text/html": [
              "<p style=\"text-align:center;\">$\\left[ \\begin{array}{cccc}1&0&0&-1\\\\2&0&7&0\\\\-4&3&3&0\\\\0&3&4&1\\\\7&1&2&1\\\\ \\end{array} \\right]$</p>"
            ],
            "image/png": "$\\left[ \\begin{array}{cccc}1&0&0&-1\\\\2&0&7&0\\\\-4&3&3&0\\\\0&3&4&1\\\\7&1&2&1\\\\ \\end{array} \\right]$",
            "text/latex": "$\\left[ \\begin{array}{cccc}1&0&0&-1\\\\2&0&7&0\\\\-4&3&3&0\\\\0&3&4&1\\\\7&1&2&1\\\\ \\end{array} \\right]$"
          },
          "metadata": {},
          "execution_count": 13
        }
      ]
    },
    {
      "cell_type": "markdown",
      "source": [
        "$\\left[ \\begin{array}{cccc}1&0&0&-1\\\\2&0&7&0\\\\-4&3&3&0\\\\0&3&4&1\\\\7&1&2&1\\\\ \\end{array} \\right]$"
      ],
      "metadata": {
        "id": "bOrTnnwwSRBD"
      }
    },
    {
      "cell_type": "markdown",
      "metadata": {
        "id": "96CPH5a_j1X9"
      },
      "source": [
        "Calcule el siguiente vector: 3 veces la primera columna de $A$\n",
        "mas la segunda columna de $A$ menos 2 veces la tercera columna\n",
        "menos 3 veces la última columna de $A$\n",
        "\n"
      ]
    },
    {
      "cell_type": "code",
      "source": [
        "((A|1)*3) + (A|2) - ((A|3)*2) - ((A|4)*3)"
      ],
      "metadata": {
        "id": "eg4ffav2UPiu",
        "outputId": "4339eb2e-0132-4f4e-e104-83267d0b8233",
        "colab": {
          "base_uri": "https://localhost:8080/",
          "height": 46
        }
      },
      "execution_count": 6,
      "outputs": [
        {
          "output_type": "execute_result",
          "data": {
            "text/plain": [
              "Vector([6, -8, -15, -8, 15])"
            ],
            "text/html": [
              "<p style=\"text-align:center;\">$\\begin{pmatrix}6\\\\ -8\\\\ -15\\\\ -8\\\\ 15\\end{pmatrix}$</p>"
            ],
            "image/png": "$\\begin{pmatrix}6\\\\ -8\\\\ -15\\\\ -8\\\\ 15\\end{pmatrix}$",
            "text/latex": "$\\begin{pmatrix}6\\\\ -8\\\\ -15\\\\ -8\\\\ 15\\end{pmatrix}$"
          },
          "metadata": {},
          "execution_count": 6
        }
      ]
    },
    {
      "cell_type": "markdown",
      "source": [
        "$\\begin{pmatrix}6\\\\ -8\\\\ -15\\\\ -8\\\\ 15\\end{pmatrix}$"
      ],
      "metadata": {
        "id": "DsrbmyWjU-0t"
      }
    },
    {
      "cell_type": "markdown",
      "metadata": {
        "ein.tags": "worksheet-0",
        "id": "kjhE4PPdWKYI"
      },
      "source": [
        "4. Matriz por vector (combinaciones lineales de las columnas de una matriz)\n",
        "\n",
        "Considere los vectores ${x}=(1, 1, -2)$, ${y}=(1, -2, 1)$\n",
        "\n",
        "y\n",
        "${z}=(-2, 1, 1)$ y verifique que\n",
        "$2{x}+2{y}+2{z}={0}$\n",
        "\n",
        "que resultado da : $4x+4y+4z$\n",
        "\n",
        "y que resultado da:  $-3x-3y-3z$"
      ]
    },
    {
      "cell_type": "code",
      "source": [
        "x=Vector([1,1,-2])\n",
        "y=Vector([1,-2,1])\n",
        "z=Vector([-2,1,1])\n",
        "x,y,z"
      ],
      "metadata": {
        "id": "womg7fkbVrfy",
        "outputId": "99652128-eb93-44c4-fe3e-8b8447a657a3",
        "colab": {
          "base_uri": "https://localhost:8080/"
        }
      },
      "execution_count": 7,
      "outputs": [
        {
          "output_type": "execute_result",
          "data": {
            "text/plain": [
              "(Vector([1, 1, -2]), Vector([1, -2, 1]), Vector([-2, 1, 1]))"
            ]
          },
          "metadata": {},
          "execution_count": 7
        }
      ]
    },
    {
      "cell_type": "code",
      "source": [
        "(2*x)+(2*y)+(2*z)"
      ],
      "metadata": {
        "id": "QXcdtqTpVuJJ",
        "outputId": "3d1d4ddc-6209-4eca-ac6d-3525adf48069",
        "colab": {
          "base_uri": "https://localhost:8080/",
          "height": 46
        }
      },
      "execution_count": 8,
      "outputs": [
        {
          "output_type": "execute_result",
          "data": {
            "text/plain": [
              "Vector([0, 0, 0])"
            ],
            "text/html": [
              "<p style=\"text-align:center;\">$\\begin{pmatrix}0\\\\ 0\\\\ 0\\end{pmatrix}$</p>"
            ],
            "image/png": "$\\begin{pmatrix}0\\\\ 0\\\\ 0\\end{pmatrix}$",
            "text/latex": "$\\begin{pmatrix}0\\\\ 0\\\\ 0\\end{pmatrix}$"
          },
          "metadata": {},
          "execution_count": 8
        }
      ]
    },
    {
      "cell_type": "markdown",
      "source": [
        "$\\begin{pmatrix}0\\\\ 0\\\\ 0\\end{pmatrix}$"
      ],
      "metadata": {
        "id": "wujUaCEjV7vI"
      }
    },
    {
      "cell_type": "code",
      "source": [
        "(4*x)+(4*y)+(4*z)"
      ],
      "metadata": {
        "id": "BL3MOUvTV_rK",
        "outputId": "a5ba4d69-3425-43a6-ffac-b23e57d08f2f",
        "colab": {
          "base_uri": "https://localhost:8080/",
          "height": 46
        }
      },
      "execution_count": 9,
      "outputs": [
        {
          "output_type": "execute_result",
          "data": {
            "text/plain": [
              "Vector([0, 0, 0])"
            ],
            "text/html": [
              "<p style=\"text-align:center;\">$\\begin{pmatrix}0\\\\ 0\\\\ 0\\end{pmatrix}$</p>"
            ],
            "image/png": "$\\begin{pmatrix}0\\\\ 0\\\\ 0\\end{pmatrix}$",
            "text/latex": "$\\begin{pmatrix}0\\\\ 0\\\\ 0\\end{pmatrix}$"
          },
          "metadata": {},
          "execution_count": 9
        }
      ]
    },
    {
      "cell_type": "markdown",
      "source": [
        "$\\begin{pmatrix}0\\\\ 0\\\\ 0\\end{pmatrix}$"
      ],
      "metadata": {
        "id": "DJxj8W9mWTgW"
      }
    },
    {
      "cell_type": "code",
      "source": [
        "-(3*x)-(3*y)-(3*z)"
      ],
      "metadata": {
        "id": "KeXNHvH2WW8y",
        "outputId": "ffa79eff-a23b-47e0-9044-bbeff9947403",
        "colab": {
          "base_uri": "https://localhost:8080/",
          "height": 46
        }
      },
      "execution_count": 10,
      "outputs": [
        {
          "output_type": "execute_result",
          "data": {
            "text/plain": [
              "Vector([0, 0, 0])"
            ],
            "text/html": [
              "<p style=\"text-align:center;\">$\\begin{pmatrix}0\\\\ 0\\\\ 0\\end{pmatrix}$</p>"
            ],
            "image/png": "$\\begin{pmatrix}0\\\\ 0\\\\ 0\\end{pmatrix}$",
            "text/latex": "$\\begin{pmatrix}0\\\\ 0\\\\ 0\\end{pmatrix}$"
          },
          "metadata": {},
          "execution_count": 10
        }
      ]
    },
    {
      "cell_type": "markdown",
      "source": [
        "$\\begin{pmatrix}0\\\\ 0\\\\ 0\\end{pmatrix}$"
      ],
      "metadata": {
        "id": "1HjKZKRkW3aB"
      }
    },
    {
      "cell_type": "markdown",
      "metadata": {
        "ein.tags": "worksheet-0",
        "id": "_38hNp-wcDuB"
      },
      "source": [
        "5. Escribe una matriz C del mismo orden que A y verifica que\n",
        "$$\n",
        "({A}{C})^T={C}^T{A}^T\n",
        "$$"
      ]
    },
    {
      "cell_type": "code",
      "source": [
        "i=Vector([1,2,-4,0,7])\n",
        "j=Vector([0,0,3,3,1])\n",
        "k=Vector([0,7,3,4,2])\n",
        "l=Vector([-1,0,0,1,1])\n",
        "C=Matrix([i,j,k,l])\n",
        "C"
      ],
      "metadata": {
        "colab": {
          "base_uri": "https://localhost:8080/",
          "height": 46
        },
        "id": "fZrEYqnoba6n",
        "outputId": "3aa0301b-3459-4615-aaed-2f732eeae288"
      },
      "execution_count": 21,
      "outputs": [
        {
          "output_type": "execute_result",
          "data": {
            "text/plain": [
              "Matrix([Vector([1, 2, -4, 0, 7]), Vector([0, 0, 3, 3, 1]), Vector([0, 7, 3, 4, 2]), Vector([-1, 0, 0, 1, 1])])"
            ],
            "text/html": [
              "<p style=\"text-align:center;\">$\\left[ \\begin{array}{cccc}1&0&0&-1\\\\2&0&7&0\\\\-4&3&3&0\\\\0&3&4&1\\\\7&1&2&1\\\\ \\end{array} \\right]$</p>"
            ],
            "image/png": "$\\left[ \\begin{array}{cccc}1&0&0&-1\\\\2&0&7&0\\\\-4&3&3&0\\\\0&3&4&1\\\\7&1&2&1\\\\ \\end{array} \\right]$",
            "text/latex": "$\\left[ \\begin{array}{cccc}1&0&0&-1\\\\2&0&7&0\\\\-4&3&3&0\\\\0&3&4&1\\\\7&1&2&1\\\\ \\end{array} \\right]$"
          },
          "metadata": {},
          "execution_count": 21
        }
      ]
    },
    {
      "cell_type": "markdown",
      "source": [
        "$\\left[ \\begin{array}{cccc}1&0&0&-1\\\\2&0&7&0\\\\-4&3&3&0\\\\0&3&4&1\\\\7&1&2&1\\\\ \\end{array} \\right]$"
      ],
      "metadata": {
        "id": "_8USH39hdvY9"
      }
    },
    {
      "cell_type": "code",
      "source": [
        "~C"
      ],
      "metadata": {
        "colab": {
          "base_uri": "https://localhost:8080/",
          "height": 46
        },
        "id": "jvxzZQqsdofd",
        "outputId": "428331b2-eb4f-4969-baad-98cb040699f7"
      },
      "execution_count": 29,
      "outputs": [
        {
          "output_type": "execute_result",
          "data": {
            "text/plain": [
              "Matrix([Vector([1, 0, 0, -1]), Vector([2, 0, 7, 0]), Vector([-4, 3, 3, 0]), Vector([0, 3, 4, 1]), Vector([7, 1, 2, 1])])"
            ],
            "text/html": [
              "<p style=\"text-align:center;\">$\\left[ \\begin{array}{ccccc}1&2&-4&0&7\\\\0&0&3&3&1\\\\0&7&3&4&2\\\\-1&0&0&1&1\\\\ \\end{array} \\right]$</p>"
            ],
            "image/png": "$\\left[ \\begin{array}{ccccc}1&2&-4&0&7\\\\0&0&3&3&1\\\\0&7&3&4&2\\\\-1&0&0&1&1\\\\ \\end{array} \\right]$",
            "text/latex": "$\\left[ \\begin{array}{ccccc}1&2&-4&0&7\\\\0&0&3&3&1\\\\0&7&3&4&2\\\\-1&0&0&1&1\\\\ \\end{array} \\right]$"
          },
          "metadata": {},
          "execution_count": 29
        }
      ]
    },
    {
      "cell_type": "markdown",
      "source": [
        "$\\left[ \\begin{array}{ccccc}1&2&-4&0&7\\\\0&0&3&3&1\\\\0&7&3&4&2\\\\-1&0&0&1&1\\\\ \\end{array} \\right]$"
      ],
      "metadata": {
        "id": "DTvpq-k0dtBe"
      }
    },
    {
      "cell_type": "code",
      "source": [
        "I=A*C"
      ],
      "metadata": {
        "colab": {
          "base_uri": "https://localhost:8080/",
          "height": 272
        },
        "id": "OkaJ9e_Adx23",
        "outputId": "d7f7453a-8113-4297-831c-dfc9d78901cc"
      },
      "execution_count": 30,
      "outputs": [
        {
          "output_type": "error",
          "ename": "ValueError",
          "evalue": "Sistema y Matrix incompatibles",
          "traceback": [
            "\u001b[0;31m---------------------------------------------------------------------------\u001b[0m",
            "\u001b[0;31mValueError\u001b[0m                                Traceback (most recent call last)",
            "\u001b[0;32m<ipython-input-30-1697d511239f>\u001b[0m in \u001b[0;36m<cell line: 1>\u001b[0;34m()\u001b[0m\n\u001b[0;32m----> 1\u001b[0;31m \u001b[0mI\u001b[0m\u001b[0;34m=\u001b[0m\u001b[0mA\u001b[0m\u001b[0;34m*\u001b[0m\u001b[0mC\u001b[0m\u001b[0;34m\u001b[0m\u001b[0;34m\u001b[0m\u001b[0m\n\u001b[0m",
            "\u001b[0;32m/usr/local/lib/python3.10/dist-packages/nacal/nacal.py\u001b[0m in \u001b[0;36m__mul__\u001b[0;34m(self, x)\u001b[0m\n\u001b[1;32m    725\u001b[0m         \u001b[0;32melif\u001b[0m \u001b[0misinstance\u001b[0m\u001b[0;34m(\u001b[0m\u001b[0mx\u001b[0m\u001b[0;34m,\u001b[0m \u001b[0mMatrix\u001b[0m\u001b[0;34m)\u001b[0m\u001b[0;34m:\u001b[0m\u001b[0;34m\u001b[0m\u001b[0;34m\u001b[0m\u001b[0m\n\u001b[1;32m    726\u001b[0m             \u001b[0;32mif\u001b[0m \u001b[0mlen\u001b[0m\u001b[0;34m(\u001b[0m\u001b[0mself\u001b[0m\u001b[0;34m)\u001b[0m \u001b[0;34m!=\u001b[0m \u001b[0mx\u001b[0m\u001b[0;34m.\u001b[0m\u001b[0mm\u001b[0m\u001b[0;34m:\u001b[0m\u001b[0;34m\u001b[0m\u001b[0;34m\u001b[0m\u001b[0m\n\u001b[0;32m--> 727\u001b[0;31m                 \u001b[0;32mraise\u001b[0m \u001b[0mValueError\u001b[0m\u001b[0;34m(\u001b[0m\u001b[0;34m'Sistema y Matrix incompatibles'\u001b[0m\u001b[0;34m)\u001b[0m\u001b[0;34m\u001b[0m\u001b[0;34m\u001b[0m\u001b[0m\n\u001b[0m\u001b[1;32m    728\u001b[0m             \u001b[0;32mif\u001b[0m \u001b[0misinstance\u001b[0m\u001b[0;34m(\u001b[0m\u001b[0mself\u001b[0m\u001b[0;34m,\u001b[0m \u001b[0mBlockV\u001b[0m\u001b[0;34m)\u001b[0m\u001b[0;34m:\u001b[0m\u001b[0;34m\u001b[0m\u001b[0;34m\u001b[0m\u001b[0m\n\u001b[1;32m    729\u001b[0m                 \u001b[0;32mreturn\u001b[0m \u001b[0mfactor\u001b[0m\u001b[0;34m(\u001b[0m\u001b[0mBlockV\u001b[0m\u001b[0;34m(\u001b[0m \u001b[0;34m[\u001b[0m \u001b[0mself\u001b[0m\u001b[0;34m*\u001b[0m\u001b[0;34m(\u001b[0m\u001b[0mx\u001b[0m\u001b[0;34m|\u001b[0m\u001b[0mj\u001b[0m\u001b[0;34m)\u001b[0m \u001b[0;32mfor\u001b[0m \u001b[0mj\u001b[0m \u001b[0;32min\u001b[0m \u001b[0mrange\u001b[0m\u001b[0;34m(\u001b[0m\u001b[0;36m1\u001b[0m\u001b[0;34m,\u001b[0m\u001b[0;34m(\u001b[0m\u001b[0mx\u001b[0m\u001b[0;34m.\u001b[0m\u001b[0mn\u001b[0m\u001b[0;34m)\u001b[0m\u001b[0;34m+\u001b[0m\u001b[0;36m1\u001b[0m\u001b[0;34m)\u001b[0m\u001b[0;34m]\u001b[0m\u001b[0;34m,\u001b[0m \u001b[0mrpr\u001b[0m\u001b[0;34m=\u001b[0m\u001b[0;34m'h'\u001b[0m \u001b[0;34m)\u001b[0m\u001b[0;34m)\u001b[0m\u001b[0;34m\u001b[0m\u001b[0;34m\u001b[0m\u001b[0m\n",
            "\u001b[0;31mValueError\u001b[0m: Sistema y Matrix incompatibles"
          ]
        }
      ]
    },
    {
      "cell_type": "markdown",
      "metadata": {
        "ein.tags": "worksheet-0",
        "id": "Hin_mRv6cDtt"
      },
      "source": [
        "6. Verifique que\n",
        "$\n",
        "{A}{I}={A}\n",
        "$\n",
        "y que\n",
        "$\n",
        "{I}{A}={A}\n",
        "$"
      ]
    },
    {
      "cell_type": "code",
      "execution_count": null,
      "metadata": {
        "autoscroll": false,
        "ein.hycell": false,
        "ein.tags": "worksheet-0",
        "id": "8dfGpxIdcDtt"
      },
      "outputs": [],
      "source": []
    },
    {
      "cell_type": "markdown",
      "source": [
        "7. Producto punto\n",
        "Considere los vectores ${x}=(1, 1, -2)$, ${y}=(1, -2, 1)$\n",
        "calcula el producto punto"
      ],
      "metadata": {
        "id": "aHZ16S1peAeY"
      }
    },
    {
      "cell_type": "code",
      "source": [
        "x=Vector([1,1,-2])\n",
        "y=Vector([1,-2,1])"
      ],
      "metadata": {
        "id": "Mc4DxlFbXTtY"
      },
      "execution_count": null,
      "outputs": []
    },
    {
      "cell_type": "code",
      "source": [
        "x*y"
      ],
      "metadata": {
        "id": "QPfhac1geMQK",
        "outputId": "60a8f920-312c-48b9-bc7a-30c0f1438c40",
        "colab": {
          "base_uri": "https://localhost:8080/",
          "height": 37
        }
      },
      "execution_count": null,
      "outputs": [
        {
          "output_type": "execute_result",
          "data": {
            "text/plain": [
              "-3"
            ],
            "text/latex": "$\\displaystyle -3$"
          },
          "metadata": {},
          "execution_count": 52
        }
      ]
    }
  ]
}