{
  "nbformat": 4,
  "nbformat_minor": 0,
  "metadata": {
    "colab": {
      "provenance": []
    },
    "kernelspec": {
      "name": "python3",
      "display_name": "Python 3"
    },
    "language_info": {
      "name": "python"
    }
  },
  "cells": [
    {
      "cell_type": "code",
      "execution_count": 2,
      "metadata": {
        "colab": {
          "base_uri": "https://localhost:8080/"
        },
        "id": "VcNUcz9tJWsf",
        "outputId": "6b013824-5af6-4e6c-d3b0-9412b3de633b"
      },
      "outputs": [
        {
          "output_type": "stream",
          "name": "stdout",
          "text": [
            "Collecting nacal\n",
            "  Downloading nacal-0.1.30-py3-none-any.whl (33 kB)\n",
            "Requirement already satisfied: sympy>=1.1.0 in /usr/local/lib/python3.10/dist-packages (from nacal) (1.12)\n",
            "Requirement already satisfied: mpmath>=0.19 in /usr/local/lib/python3.10/dist-packages (from sympy>=1.1.0->nacal) (1.3.0)\n",
            "Installing collected packages: nacal\n",
            "Successfully installed nacal-0.1.30\n"
          ]
        }
      ],
      "source": [
        "!pip install --target=$nb_path nacal\n",
        "from nacal import *"
      ]
    },
    {
      "cell_type": "markdown",
      "source": [
        "Ejercicio 4\n"
      ],
      "metadata": {
        "id": "bznx_cnQlywA"
      }
    },
    {
      "cell_type": "code",
      "source": [
        "# inciso a)\n",
        "b = Vector( [0, 4, 6] )\n",
        "3*b|1"
      ],
      "metadata": {
        "colab": {
          "base_uri": "https://localhost:8080/"
        },
        "id": "VySqbvK6ij2A",
        "outputId": "46159845-ec4b-4cf1-a86a-6515a1955212"
      },
      "execution_count": null,
      "outputs": [
        {
          "output_type": "execute_result",
          "data": {
            "text/plain": [
              "0"
            ]
          },
          "metadata": {},
          "execution_count": 51
        }
      ]
    },
    {
      "cell_type": "code",
      "source": [
        "# inciso b)\n",
        "b = Vector( [0, 4, 6] )\n",
        "3*1|b"
      ],
      "metadata": {
        "colab": {
          "base_uri": "https://localhost:8080/"
        },
        "id": "ZczxevxWlkXo",
        "outputId": "ce2b167e-c098-4b38-de2f-b454d8579b0e"
      },
      "execution_count": null,
      "outputs": [
        {
          "output_type": "execute_result",
          "data": {
            "text/plain": [
              "6"
            ]
          },
          "metadata": {},
          "execution_count": 52
        }
      ]
    },
    {
      "cell_type": "code",
      "source": [
        "# inciso c)\n",
        "b = Vector( [0, 4, 6] )\n",
        "1*3|b"
      ],
      "metadata": {
        "colab": {
          "base_uri": "https://localhost:8080/"
        },
        "id": "fmkMpWTml3Vg",
        "outputId": "5b6d0ea9-5991-497d-f538-1693edf91e43"
      },
      "execution_count": null,
      "outputs": [
        {
          "output_type": "execute_result",
          "data": {
            "text/plain": [
              "6"
            ]
          },
          "metadata": {},
          "execution_count": 53
        }
      ]
    },
    {
      "cell_type": "code",
      "source": [
        "# inciso d)\n",
        "b = Vector( [0, 4, 6] )\n",
        "1|b*3"
      ],
      "metadata": {
        "colab": {
          "base_uri": "https://localhost:8080/"
        },
        "id": "ImN_4Bqml-kL",
        "outputId": "db5021c6-2b1d-4df3-abf2-c8a1e45cdc6d"
      },
      "execution_count": null,
      "outputs": [
        {
          "output_type": "execute_result",
          "data": {
            "text/plain": [
              "0"
            ]
          },
          "metadata": {},
          "execution_count": 54
        }
      ]
    },
    {
      "cell_type": "markdown",
      "source": [
        "Ejercicio 6"
      ],
      "metadata": {
        "id": "UtDOYKb1mTQ_"
      }
    },
    {
      "cell_type": "code",
      "source": [
        "#Matríz A\n",
        "a = Vector ( [1,2] )\n",
        "b = Vector ( [1,0] )\n",
        "c = Vector ( [9,2] )\n",
        "A = Matrix ( [a, b, c] )\n",
        "A"
      ],
      "metadata": {
        "colab": {
          "base_uri": "https://localhost:8080/",
          "height": 46
        },
        "id": "NTOYS0xOt2e4",
        "outputId": "d1e4259a-6523-47ad-8b38-1cf89a0574ac"
      },
      "execution_count": 3,
      "outputs": [
        {
          "output_type": "execute_result",
          "data": {
            "text/plain": [
              "Matrix([Vector([1, 2]), Vector([1, 0]), Vector([9, 2])])"
            ],
            "text/html": [
              "<p style=\"text-align:center;\">$\\left[ \\begin{array}{ccc}1&1&9\\\\2&0&2\\\\ \\end{array} \\right]$</p>"
            ],
            "image/png": "$\\left[ \\begin{array}{ccc}1&1&9\\\\2&0&2\\\\ \\end{array} \\right]$",
            "text/latex": "$\\left[ \\begin{array}{ccc}1&1&9\\\\2&0&2\\\\ \\end{array} \\right]$"
          },
          "metadata": {},
          "execution_count": 3
        }
      ]
    },
    {
      "cell_type": "markdown",
      "source": [
        "$\\left[ \\begin{array}{ccc}1&1&9\\\\2&0&2\\\\ \\end{array} \\right]$"
      ],
      "metadata": {
        "id": "tgte1f4Lxvrm"
      }
    },
    {
      "cell_type": "code",
      "source": [
        "#Matríz B\n",
        "a = Vector( [1, 0] )\n",
        "b = Vector( [2,-1] )\n",
        "c = Vector( [3, 7] )\n",
        "B = Matrix( [a, b, c] )\n",
        "B\n"
      ],
      "metadata": {
        "colab": {
          "base_uri": "https://localhost:8080/",
          "height": 46
        },
        "id": "ovk5I7wfmWWF",
        "outputId": "e712b055-ecb8-44d8-ef01-250598464a0b"
      },
      "execution_count": 4,
      "outputs": [
        {
          "output_type": "execute_result",
          "data": {
            "text/plain": [
              "Matrix([Vector([1, 0]), Vector([2, -1]), Vector([3, 7])])"
            ],
            "text/html": [
              "<p style=\"text-align:center;\">$\\left[ \\begin{array}{ccc}1&2&3\\\\0&-1&7\\\\ \\end{array} \\right]$</p>"
            ],
            "image/png": "$\\left[ \\begin{array}{ccc}1&2&3\\\\0&-1&7\\\\ \\end{array} \\right]$",
            "text/latex": "$\\left[ \\begin{array}{ccc}1&2&3\\\\0&-1&7\\\\ \\end{array} \\right]$"
          },
          "metadata": {},
          "execution_count": 4
        }
      ]
    },
    {
      "cell_type": "markdown",
      "source": [
        "$\\left[ \\begin{array}{ccc}1&2&3\\\\0&-1&7\\\\ \\end{array} \\right]$"
      ],
      "metadata": {
        "id": "ytR1W57fsLxs"
      }
    },
    {
      "cell_type": "code",
      "source": [
        "#Matríz C\n",
        "a = Vector( [1, 5] )\n",
        "b = Vector( [4,-3] )\n",
        "c = Vector( [9, 0] )\n",
        "C = Matrix( [a, b, c] )\n",
        "C"
      ],
      "metadata": {
        "colab": {
          "base_uri": "https://localhost:8080/",
          "height": 46
        },
        "id": "xqFxgO2ozsNK",
        "outputId": "572c868a-719e-4d4c-d77f-31148fe45da4"
      },
      "execution_count": 5,
      "outputs": [
        {
          "output_type": "execute_result",
          "data": {
            "text/plain": [
              "Matrix([Vector([1, 5]), Vector([4, -3]), Vector([9, 0])])"
            ],
            "text/html": [
              "<p style=\"text-align:center;\">$\\left[ \\begin{array}{ccc}1&4&9\\\\5&-3&0\\\\ \\end{array} \\right]$</p>"
            ],
            "image/png": "$\\left[ \\begin{array}{ccc}1&4&9\\\\5&-3&0\\\\ \\end{array} \\right]$",
            "text/latex": "$\\left[ \\begin{array}{ccc}1&4&9\\\\5&-3&0\\\\ \\end{array} \\right]$"
          },
          "metadata": {},
          "execution_count": 5
        }
      ]
    },
    {
      "cell_type": "code",
      "source": [
        "#Matríz 0\n",
        "O=M0(2,3)\n",
        "O"
      ],
      "metadata": {
        "colab": {
          "base_uri": "https://localhost:8080/",
          "height": 46
        },
        "id": "TYofmyHFBsXk",
        "outputId": "37ee81ef-c84b-42c2-9a18-6b02df033314"
      },
      "execution_count": 6,
      "outputs": [
        {
          "output_type": "execute_result",
          "data": {
            "text/plain": [
              "Matrix([Vector([0, 0]), Vector([0, 0]), Vector([0, 0])])"
            ],
            "text/html": [
              "<p style=\"text-align:center;\">$\\left[ \\begin{array}{ccc}0&0&0\\\\0&0&0\\\\ \\end{array} \\right]$</p>"
            ],
            "image/png": "$\\left[ \\begin{array}{ccc}0&0&0\\\\0&0&0\\\\ \\end{array} \\right]$",
            "text/latex": "$\\left[ \\begin{array}{ccc}0&0&0\\\\0&0&0\\\\ \\end{array} \\right]$"
          },
          "metadata": {},
          "execution_count": 6
        }
      ]
    },
    {
      "cell_type": "markdown",
      "source": [
        "$\\left[ \\begin{array}{ccc}0&0&0\\\\0&0&0\\\\ \\end{array} \\right]$"
      ],
      "metadata": {
        "id": "iMby_Pz2CreQ"
      }
    },
    {
      "cell_type": "code",
      "source": [
        "#Inciso 1\n",
        "(A+B)\n"
      ],
      "metadata": {
        "colab": {
          "base_uri": "https://localhost:8080/",
          "height": 46
        },
        "id": "OVx1eP_Wx_Vj",
        "outputId": "b1b07c2d-224a-4e4a-e8ef-9033951dfb44"
      },
      "execution_count": 7,
      "outputs": [
        {
          "output_type": "execute_result",
          "data": {
            "text/plain": [
              "Matrix([Vector([2, 2]), Vector([3, -1]), Vector([12, 9])])"
            ],
            "text/html": [
              "<p style=\"text-align:center;\">$\\left[ \\begin{array}{ccc}2&3&12\\\\2&-1&9\\\\ \\end{array} \\right]$</p>"
            ],
            "image/png": "$\\left[ \\begin{array}{ccc}2&3&12\\\\2&-1&9\\\\ \\end{array} \\right]$",
            "text/latex": "$\\left[ \\begin{array}{ccc}2&3&12\\\\2&-1&9\\\\ \\end{array} \\right]$"
          },
          "metadata": {},
          "execution_count": 7
        }
      ]
    },
    {
      "cell_type": "markdown",
      "source": [
        "$\\left[ \\begin{array}{ccc}2&3&12\\\\2&-1&9\\\\ \\end{array} \\right]$"
      ],
      "metadata": {
        "id": "GYmAdDtNyD3J"
      }
    },
    {
      "cell_type": "code",
      "source": [
        "#Inciso 2\n",
        "A + (B + C)"
      ],
      "metadata": {
        "colab": {
          "base_uri": "https://localhost:8080/",
          "height": 46
        },
        "id": "zo3Zuh_p3rDQ",
        "outputId": "5ec332b7-6c06-4a54-fee6-19a907ae51d8"
      },
      "execution_count": 8,
      "outputs": [
        {
          "output_type": "execute_result",
          "data": {
            "text/plain": [
              "Matrix([Vector([3, 7]), Vector([7, -4]), Vector([21, 9])])"
            ],
            "text/html": [
              "<p style=\"text-align:center;\">$\\left[ \\begin{array}{ccc}3&7&21\\\\7&-4&9\\\\ \\end{array} \\right]$</p>"
            ],
            "image/png": "$\\left[ \\begin{array}{ccc}3&7&21\\\\7&-4&9\\\\ \\end{array} \\right]$",
            "text/latex": "$\\left[ \\begin{array}{ccc}3&7&21\\\\7&-4&9\\\\ \\end{array} \\right]$"
          },
          "metadata": {},
          "execution_count": 8
        }
      ]
    },
    {
      "cell_type": "markdown",
      "source": [
        "$\\left[ \\begin{array}{ccc}3&7&21\\\\7&-4&9\\\\ \\end{array} \\right]$"
      ],
      "metadata": {
        "id": "MZKqnSS53xAZ"
      }
    },
    {
      "cell_type": "code",
      "source": [
        "#Inciso 3\n",
        "O+A"
      ],
      "metadata": {
        "id": "0TEX6h7f3yYw",
        "colab": {
          "base_uri": "https://localhost:8080/",
          "height": 46
        },
        "outputId": "1421522c-f480-48aa-caf1-dc2aa38383da"
      },
      "execution_count": 9,
      "outputs": [
        {
          "output_type": "execute_result",
          "data": {
            "text/plain": [
              "Matrix([Vector([1, 2]), Vector([1, 0]), Vector([9, 2])])"
            ],
            "text/html": [
              "<p style=\"text-align:center;\">$\\left[ \\begin{array}{ccc}1&1&9\\\\2&0&2\\\\ \\end{array} \\right]$</p>"
            ],
            "image/png": "$\\left[ \\begin{array}{ccc}1&1&9\\\\2&0&2\\\\ \\end{array} \\right]$",
            "text/latex": "$\\left[ \\begin{array}{ccc}1&1&9\\\\2&0&2\\\\ \\end{array} \\right]$"
          },
          "metadata": {},
          "execution_count": 9
        }
      ]
    },
    {
      "cell_type": "markdown",
      "source": [
        "$\\left[ \\begin{array}{ccc}1&1&9\\\\2&0&2\\\\ \\end{array} \\right]$"
      ],
      "metadata": {
        "id": "ka-nPoqJCe_B"
      }
    },
    {
      "cell_type": "code",
      "source": [
        "#Inciso 4\n",
        "A + (-A)"
      ],
      "metadata": {
        "colab": {
          "base_uri": "https://localhost:8080/",
          "height": 46
        },
        "id": "oFPfzd3p8VGE",
        "outputId": "801a0fdf-ff3a-459f-8c7d-252d6ee6c7e8"
      },
      "execution_count": 10,
      "outputs": [
        {
          "output_type": "execute_result",
          "data": {
            "text/plain": [
              "Matrix([Vector([0, 0]), Vector([0, 0]), Vector([0, 0])])"
            ],
            "text/html": [
              "<p style=\"text-align:center;\">$\\left[ \\begin{array}{ccc}0&0&0\\\\0&0&0\\\\ \\end{array} \\right]$</p>"
            ],
            "image/png": "$\\left[ \\begin{array}{ccc}0&0&0\\\\0&0&0\\\\ \\end{array} \\right]$",
            "text/latex": "$\\left[ \\begin{array}{ccc}0&0&0\\\\0&0&0\\\\ \\end{array} \\right]$"
          },
          "metadata": {},
          "execution_count": 10
        }
      ]
    },
    {
      "cell_type": "markdown",
      "source": [
        "$\\left[ \\begin{array}{ccc}0&0&0\\\\0&0&0\\\\ \\end{array} \\right]$"
      ],
      "metadata": {
        "id": "CFoyv2bO8lnc"
      }
    },
    {
      "cell_type": "code",
      "source": [
        "λ=2\n",
        "η=2\n"
      ],
      "metadata": {
        "id": "xYE6Qj7nfxc-"
      },
      "execution_count": 34,
      "outputs": []
    },
    {
      "cell_type": "code",
      "source": [
        "#Inciso 5\n",
        "λ*(A + B)"
      ],
      "metadata": {
        "colab": {
          "base_uri": "https://localhost:8080/",
          "height": 46
        },
        "id": "6c_f4rhtJeWs",
        "outputId": "39f5f817-169e-4e54-f966-160cad47ec5b"
      },
      "execution_count": 35,
      "outputs": [
        {
          "output_type": "execute_result",
          "data": {
            "text/plain": [
              "Matrix([Vector([4, 4]), Vector([6, -2]), Vector([24, 18])])"
            ],
            "text/html": [
              "<p style=\"text-align:center;\">$\\left[ \\begin{array}{ccc}4&6&24\\\\4&-2&18\\\\ \\end{array} \\right]$</p>"
            ],
            "image/png": "$\\left[ \\begin{array}{ccc}4&6&24\\\\4&-2&18\\\\ \\end{array} \\right]$",
            "text/latex": "$\\left[ \\begin{array}{ccc}4&6&24\\\\4&-2&18\\\\ \\end{array} \\right]$"
          },
          "metadata": {},
          "execution_count": 35
        }
      ]
    },
    {
      "cell_type": "markdown",
      "source": [
        "$\\left[ \\begin{array}{ccc}4&6&24\\\\4&-2&18\\\\ \\end{array} \\right]$"
      ],
      "metadata": {
        "id": "Vn3WF2XQPChI"
      }
    },
    {
      "cell_type": "code",
      "source": [
        "#Inciso 6\n",
        "A*(λ + η)"
      ],
      "metadata": {
        "colab": {
          "base_uri": "https://localhost:8080/",
          "height": 46
        },
        "id": "COrGtYyMho1h",
        "outputId": "9e3d69a4-703c-4d5e-ccf0-afe4def1b6e3"
      },
      "execution_count": 36,
      "outputs": [
        {
          "output_type": "execute_result",
          "data": {
            "text/plain": [
              "Matrix([Vector([4, 8]), Vector([4, 0]), Vector([36, 8])])"
            ],
            "text/html": [
              "<p style=\"text-align:center;\">$\\left[ \\begin{array}{ccc}4&4&36\\\\8&0&8\\\\ \\end{array} \\right]$</p>"
            ],
            "image/png": "$\\left[ \\begin{array}{ccc}4&4&36\\\\8&0&8\\\\ \\end{array} \\right]$",
            "text/latex": "$\\left[ \\begin{array}{ccc}4&4&36\\\\8&0&8\\\\ \\end{array} \\right]$"
          },
          "metadata": {},
          "execution_count": 36
        }
      ]
    },
    {
      "cell_type": "markdown",
      "source": [
        "$\\left[ \\begin{array}{ccc}4&4&36\\\\8&0&8\\\\ \\end{array} \\right]$"
      ],
      "metadata": {
        "id": "6y3tnZLOx_67"
      }
    },
    {
      "cell_type": "code",
      "source": [
        "#Inciso 7\n",
        "λ*(η*A)"
      ],
      "metadata": {
        "id": "WY085IYVrkJ0",
        "colab": {
          "base_uri": "https://localhost:8080/",
          "height": 46
        },
        "outputId": "5e217a63-0ba1-4858-f2e0-15bc6eff9625"
      },
      "execution_count": 37,
      "outputs": [
        {
          "output_type": "execute_result",
          "data": {
            "text/plain": [
              "Matrix([Vector([4, 8]), Vector([4, 0]), Vector([36, 8])])"
            ],
            "text/html": [
              "<p style=\"text-align:center;\">$\\left[ \\begin{array}{ccc}4&4&36\\\\8&0&8\\\\ \\end{array} \\right]$</p>"
            ],
            "image/png": "$\\left[ \\begin{array}{ccc}4&4&36\\\\8&0&8\\\\ \\end{array} \\right]$",
            "text/latex": "$\\left[ \\begin{array}{ccc}4&4&36\\\\8&0&8\\\\ \\end{array} \\right]$"
          },
          "metadata": {},
          "execution_count": 37
        }
      ]
    },
    {
      "cell_type": "markdown",
      "source": [
        "$\\begin{pmatrix}2\\\\ 2\\\\ 18\\end{pmatrix}$"
      ],
      "metadata": {
        "id": "1mN6ugdWsl3P"
      }
    },
    {
      "cell_type": "code",
      "source": [
        "#Inciso 8\n",
        "1*A"
      ],
      "metadata": {
        "colab": {
          "base_uri": "https://localhost:8080/",
          "height": 46
        },
        "id": "YyYKZEIloCKe",
        "outputId": "0825cf9f-fd68-4e6d-fe02-957cc057879f"
      },
      "execution_count": 38,
      "outputs": [
        {
          "output_type": "execute_result",
          "data": {
            "text/plain": [
              "Matrix([Vector([1, 2]), Vector([1, 0]), Vector([9, 2])])"
            ],
            "text/html": [
              "<p style=\"text-align:center;\">$\\left[ \\begin{array}{ccc}1&1&9\\\\2&0&2\\\\ \\end{array} \\right]$</p>"
            ],
            "image/png": "$\\left[ \\begin{array}{ccc}1&1&9\\\\2&0&2\\\\ \\end{array} \\right]$",
            "text/latex": "$\\left[ \\begin{array}{ccc}1&1&9\\\\2&0&2\\\\ \\end{array} \\right]$"
          },
          "metadata": {},
          "execution_count": 38
        }
      ]
    },
    {
      "cell_type": "markdown",
      "source": [
        "$\\left[ \\begin{array}{ccc}1&1&9\\\\2&0&2\\\\ \\end{array} \\right]$"
      ],
      "metadata": {
        "id": "rSa864P8tNza"
      }
    }
  ]
}