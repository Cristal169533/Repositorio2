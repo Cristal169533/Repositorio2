{
  "nbformat": 4,
  "nbformat_minor": 0,
  "metadata": {
    "colab": {
      "provenance": []
    },
    "kernelspec": {
      "name": "python3",
      "display_name": "Python 3"
    },
    "language_info": {
      "name": "python"
    }
  },
  "cells": [
    {
      "cell_type": "code",
      "execution_count": 1,
      "metadata": {
        "colab": {
          "base_uri": "https://localhost:8080/"
        },
        "id": "ssyVe1XQ7Nf-",
        "outputId": "e0fbb05e-281e-486b-fd4f-7d79b2c74998"
      },
      "outputs": [
        {
          "output_type": "stream",
          "name": "stdout",
          "text": [
            "Collecting nacal\n",
            "  Downloading nacal-0.1.30-py3-none-any.whl (33 kB)\n",
            "Requirement already satisfied: sympy>=1.1.0 in /usr/local/lib/python3.10/dist-packages (from nacal) (1.12)\n",
            "Requirement already satisfied: mpmath>=0.19 in /usr/local/lib/python3.10/dist-packages (from sympy>=1.1.0->nacal) (1.3.0)\n",
            "Installing collected packages: nacal\n",
            "Successfully installed nacal-0.1.30\n"
          ]
        }
      ],
      "source": [
        "!pip install --target=$nb_path nacal\n",
        "from nacal import *"
      ]
    },
    {
      "cell_type": "code",
      "source": [
        "A = Matrix( [ Vector([1,1,1]), Vector([1,0,1]), Vector([-2,2,1]) ] )\n",
        "B = Matrix( [ Vector([1,3,8]), Vector([4,0,2]), Vector([-1,3,1]) ] )\n",
        "b = Vector( [1,2,-3] )\n",
        "c = Vector( [5,7,-2] )\n",
        "λ=3"
      ],
      "metadata": {
        "id": "tQTCltpu748e"
      },
      "execution_count": null,
      "outputs": []
    },
    {
      "cell_type": "code",
      "source": [
        "A*(b+c)"
      ],
      "metadata": {
        "colab": {
          "base_uri": "https://localhost:8080/",
          "height": 46
        },
        "id": "iJlpxrC2Jlee",
        "outputId": "ab3eac79-a8eb-4283-818d-9787669271b6"
      },
      "execution_count": null,
      "outputs": [
        {
          "output_type": "execute_result",
          "data": {
            "text/plain": [
              "Vector([25, -4, 10])"
            ],
            "text/html": [
              "<p style=\"text-align:center;\">$\\begin{pmatrix}25\\\\ -4\\\\ 10\\end{pmatrix}$</p>"
            ],
            "image/png": "$\\begin{pmatrix}25\\\\ -4\\\\ 10\\end{pmatrix}$",
            "text/latex": "$\\begin{pmatrix}25\\\\ -4\\\\ 10\\end{pmatrix}$"
          },
          "metadata": {},
          "execution_count": 22
        }
      ]
    },
    {
      "cell_type": "markdown",
      "source": [
        "$\\begin{pmatrix}25\\\\ -4\\\\ 10\\end{pmatrix}$"
      ],
      "metadata": {
        "id": "NhgkpY-WJ2xJ"
      }
    },
    {
      "cell_type": "code",
      "source": [
        "A*(λ*b)"
      ],
      "metadata": {
        "colab": {
          "base_uri": "https://localhost:8080/",
          "height": 46
        },
        "id": "SU0j_D8ALoer",
        "outputId": "f7dfcd00-ddc7-40f2-d73a-be21937fc229"
      },
      "execution_count": null,
      "outputs": [
        {
          "output_type": "execute_result",
          "data": {
            "text/plain": [
              "Vector([27, -15, 0])"
            ],
            "text/html": [
              "<p style=\"text-align:center;\">$\\begin{pmatrix}27\\\\ -15\\\\ 0\\end{pmatrix}$</p>"
            ],
            "image/png": "$\\begin{pmatrix}27\\\\ -15\\\\ 0\\end{pmatrix}$",
            "text/latex": "$\\begin{pmatrix}27\\\\ -15\\\\ 0\\end{pmatrix}$"
          },
          "metadata": {},
          "execution_count": 23
        }
      ]
    },
    {
      "cell_type": "code",
      "source": [
        "A*(B*c)"
      ],
      "metadata": {
        "colab": {
          "base_uri": "https://localhost:8080/",
          "height": 46
        },
        "id": "MLiPmB3rL-5J",
        "outputId": "bbb11b6f-723c-424b-82f1-bf5669d47ca3"
      },
      "execution_count": null,
      "outputs": [
        {
          "output_type": "execute_result",
          "data": {
            "text/plain": [
              "Vector([-60, 139, 96])"
            ],
            "text/html": [
              "<p style=\"text-align:center;\">$\\begin{pmatrix}-60\\\\ 139\\\\ 96\\end{pmatrix}$</p>"
            ],
            "image/png": "$\\begin{pmatrix}-60\\\\ 139\\\\ 96\\end{pmatrix}$",
            "text/latex": "$\\begin{pmatrix}-60\\\\ 139\\\\ 96\\end{pmatrix}$"
          },
          "metadata": {},
          "execution_count": 24
        }
      ]
    },
    {
      "cell_type": "markdown",
      "source": [
        "$\\begin{pmatrix}-60\\\\ 139\\\\ 96\\end{pmatrix}$"
      ],
      "metadata": {
        "id": "p9R4SHiAM55N"
      }
    },
    {
      "cell_type": "markdown",
      "source": [
        "Lineal en la matríz"
      ],
      "metadata": {
        "id": "RGkfls43NAmF"
      }
    },
    {
      "cell_type": "code",
      "source": [
        "(A + B)*c"
      ],
      "metadata": {
        "colab": {
          "base_uri": "https://localhost:8080/",
          "height": 46
        },
        "id": "tMGwJ8ZaNG4y",
        "outputId": "1c15eab0-68e7-46c1-e5b7-e95254aaf11d"
      },
      "execution_count": null,
      "outputs": [
        {
          "output_type": "execute_result",
          "data": {
            "text/plain": [
              "Vector([51, 10, 62])"
            ],
            "text/html": [
              "<p style=\"text-align:center;\">$\\begin{pmatrix}51\\\\ 10\\\\ 62\\end{pmatrix}$</p>"
            ],
            "image/png": "$\\begin{pmatrix}51\\\\ 10\\\\ 62\\end{pmatrix}$",
            "text/latex": "$\\begin{pmatrix}51\\\\ 10\\\\ 62\\end{pmatrix}$"
          },
          "metadata": {},
          "execution_count": 25
        }
      ]
    },
    {
      "cell_type": "markdown",
      "source": [
        "$\\begin{pmatrix}51\\\\ 10\\\\ 62\\end{pmatrix}$"
      ],
      "metadata": {
        "id": "_awhWBFvNLzd"
      }
    },
    {
      "cell_type": "code",
      "source": [
        "(λ*A)*b"
      ],
      "metadata": {
        "colab": {
          "base_uri": "https://localhost:8080/",
          "height": 46
        },
        "id": "1Vokk83rNdZJ",
        "outputId": "4a6b108f-520c-4ee3-ad5b-113ae0064805"
      },
      "execution_count": null,
      "outputs": [
        {
          "output_type": "execute_result",
          "data": {
            "text/plain": [
              "Vector([27, -15, 0])"
            ],
            "text/html": [
              "<p style=\"text-align:center;\">$\\begin{pmatrix}27\\\\ -15\\\\ 0\\end{pmatrix}$</p>"
            ],
            "image/png": "$\\begin{pmatrix}27\\\\ -15\\\\ 0\\end{pmatrix}$",
            "text/latex": "$\\begin{pmatrix}27\\\\ -15\\\\ 0\\end{pmatrix}$"
          },
          "metadata": {},
          "execution_count": 26
        }
      ]
    },
    {
      "cell_type": "markdown",
      "source": [
        "$\\begin{pmatrix}27\\\\ -15\\\\ 0\\end{pmatrix}$"
      ],
      "metadata": {
        "id": "MHXu9VYGNkKT"
      }
    }
  ]
}